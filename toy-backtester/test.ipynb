{
 "cells": [
  {
   "cell_type": "code",
   "execution_count": 29,
   "metadata": {},
   "outputs": [
    {
     "data": {
      "text/plain": [
       "date       2016-01-06\n",
       "open          3291.19\n",
       "close         3361.84\n",
       "high          3362.97\n",
       "low           3288.93\n",
       "volume    2.38887e+08\n",
       "code         sh000001\n",
       "Name: 3, dtype: object"
      ]
     },
     "execution_count": 29,
     "metadata": {},
     "output_type": "execute_result"
    }
   ],
   "source": [
    "import pandas as pd\n",
    "import os\n",
    "s='000001'\n",
    "data = pd.io.parsers.read_csv(\n",
    "                                os.path.join('', '%s.csv' % s),\n",
    "                                header=0, index_col=0, \n",
    "                                names=['date','open','close','high','low','volume','code']\n",
    "                                    )\n",
    "comb_index = data.index\n",
    "b = data.reindex(index=comb_index, method='pad').iterrows()\n",
    "list(b)[3][1]"
   ]
  }
 ],
 "metadata": {
  "kernelspec": {
   "display_name": "Python 3",
   "language": "python",
   "name": "python3"
  },
  "language_info": {
   "codemirror_mode": {
    "name": "ipython",
    "version": 3
   },
   "file_extension": ".py",
   "mimetype": "text/x-python",
   "name": "python",
   "nbconvert_exporter": "python",
   "pygments_lexer": "ipython3",
   "version": "3.7.0"
  }
 },
 "nbformat": 4,
 "nbformat_minor": 1
}
